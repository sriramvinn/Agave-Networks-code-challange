{
 "cells": [
  {
   "cell_type": "code",
   "execution_count": null,
   "id": "0b4fa69b",
   "metadata": {},
   "outputs": [],
   "source": [
    "import boto3\n",
    "import sagemaker\n",
    "from sagemaker.pytorch import PyTorchModel\n",
    "from sagemaker import get_execution_role"
   ]
  },
  {
   "cell_type": "code",
   "execution_count": null,
   "id": "f0c26eed",
   "metadata": {},
   "outputs": [],
   "source": [
    "#converting the model and code to desirable zip format supported by sagemaker inference\n",
    "import tarfile\n",
    "\n",
    "zipped_model_path = \"model.tar.gz\"\n",
    "\n",
    "with tarfile.open(zipped_model_path, \"w:gz\") as tar:\n",
    "    tar.add('model.pth')\n",
    "    tar.add('code')"
   ]
  },
  {
   "cell_type": "code",
   "execution_count": null,
   "id": "4ff9db02",
   "metadata": {},
   "outputs": [],
   "source": [
    "#setting up exicution roles\n",
    "session = sagemaker.Session()\n",
    "role = get_execution_role()"
   ]
  },
  {
   "cell_type": "code",
   "execution_count": null,
   "id": "05fc46de",
   "metadata": {},
   "outputs": [],
   "source": [
    "#uploading the model\n",
    "bucket_name = 'ram-bucket'\n",
    "s3_client = boto3.client('s3')\n",
    "s3_client.upload_file('model.tar.gz', bucket_name, 'model.tar.gz')\n",
    "s3_model_path = f's3://{bucket_name}/model.tar.gz'"
   ]
  },
  {
   "cell_type": "code",
   "execution_count": null,
   "id": "9ce9b0b5",
   "metadata": {},
   "outputs": [],
   "source": [
    "#Defining the PyTorchModel and set the entry_point as the name of the script that loads and runs your model\n",
    "model = PyTorchModel(\n",
    "    model_data=s3_model_path,\n",
    "    role=role,\n",
    "    framework_version='1.8.1',\n",
    "    entry_point='inference.py',\n",
    "    py_version=\"py3\"\n",
    ")"
   ]
  },
  {
   "cell_type": "code",
   "execution_count": null,
   "id": "daae37a6",
   "metadata": {
    "scrolled": true
   },
   "outputs": [],
   "source": [
    "#deploying the model to the spcified endpoint name\n",
    "import time\n",
    "\n",
    "endpoint_name = \"object-detect\" + time.strftime(\"%d-%m-%Y-%H-%M\", time.gmtime())\n",
    "predictor = model.deploy(initial_instance_count=1, instance_type=\"ml.m5.xlarge\", endpoint_name=endpoint_name)"
   ]
  },
  {
   "cell_type": "code",
   "execution_count": null,
   "id": "55857cec",
   "metadata": {},
   "outputs": [],
   "source": [
    "#configuring endpoint to take image input and providing bounding boxes and it's lables as outputs\n",
    "import base64\n",
    "import json\n",
    "image_path = 'Abyssinian.jpg'\n",
    "with open(image_path, 'rb') as f:\n",
    "    image_bytes = f.read()\n",
    "image_base64 = base64.b64encode(image_bytes).decode('utf-8')\n",
    "\n",
    "# Prepare the request payload\n",
    "request_payload = {\n",
    "    'input': image_base64\n",
    "}\n",
    "response = predictor.predict(json.dumps(request_payload))"
   ]
  }
 ],
 "metadata": {
  "kernelspec": {
   "display_name": "conda_python3",
   "language": "python",
   "name": "conda_python3"
  },
  "language_info": {
   "codemirror_mode": {
    "name": "ipython",
    "version": 3
   },
   "file_extension": ".py",
   "mimetype": "text/x-python",
   "name": "python",
   "nbconvert_exporter": "python",
   "pygments_lexer": "ipython3",
   "version": "3.10.10"
  }
 },
 "nbformat": 4,
 "nbformat_minor": 5
}
